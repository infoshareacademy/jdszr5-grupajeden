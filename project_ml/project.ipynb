{
 "cells": [
  {
   "cell_type": "code",
   "execution_count": null,
   "id": "2992e523",
   "metadata": {},
   "outputs": [],
   "source": [
    "import numpy as np\n",
    "import pandas as pd\n",
    "import sklearn\n",
    "import seaborn as sns\n",
    "import missingno as msno\n",
    "\n",
    "from sklearn.impute import SimpleImputer"
   ]
  },
  {
   "cell_type": "code",
   "execution_count": null,
   "id": "c7a0651a",
   "metadata": {},
   "outputs": [],
   "source": [
    "df_raw = pd.read_csv('household_power_consumption.txt',  sep=';', low_memory=False)"
   ]
  },
  {
   "cell_type": "code",
   "execution_count": null,
   "id": "5d841810",
   "metadata": {},
   "outputs": [],
   "source": [
    "# copy dataframe\n",
    "df = df_raw.copy()\n",
    "\n",
    "# drop column\n",
    "df = df.drop(['Voltage'], axis = 1)\n",
    "\n",
    "# rename column\n",
    "df = df.rename(columns={'Sub_metering_1':'Kitchen',\n",
    "                        'Sub_metering_2':'Laundry room', \n",
    "                        'Sub_metering_3':'Electric water-heater',\n",
    "                        'Global_active_power': 'Active_power',\n",
    "                        'Global_reactive_power': 'Reactive_power',\n",
    "                        'Global_intensity': 'Intensity'})"
   ]
  },
  {
   "cell_type": "code",
   "execution_count": null,
   "id": "a168108c",
   "metadata": {},
   "outputs": [],
   "source": [
    "# change data type\n",
    "columns_float = df.columns.drop(['Date','Time'])\n",
    "df[columns_float] = df[columns_float].apply(pd.to_numeric, errors='coerce')\n",
    "\n",
    "df['Date'] = pd.to_datetime(df['Date'])\n",
    "df['Time'] = pd.to_datetime(df['Time'],  format= '%H:%M:%S').dt.time"
   ]
  },
  {
   "cell_type": "code",
   "execution_count": null,
   "id": "92399a2b",
   "metadata": {},
   "outputs": [],
   "source": [
    "df.head()"
   ]
  },
  {
   "cell_type": "code",
   "execution_count": null,
   "id": "e619257a",
   "metadata": {},
   "outputs": [],
   "source": [
    "# df['Year'] = pd.DatetimeIndex(df['Date']).year\n",
    "# df['Month'] = pd.DatetimeIndex(df['Date']).month\n",
    "# df['Day'] = pd.DatetimeIndex(df['Date']).day"
   ]
  },
  {
   "cell_type": "code",
   "execution_count": null,
   "id": "5be335ae",
   "metadata": {},
   "outputs": [],
   "source": [
    "# drop  '2007-01-01' >= data < '2010-11-01'\n",
    "df = df[df.Date < pd.to_datetime('2010-11-01')]\n",
    "df = df[df.Date >= pd.to_datetime('2007-01-01')]"
   ]
  },
  {
   "cell_type": "code",
   "execution_count": null,
   "id": "91977139",
   "metadata": {},
   "outputs": [],
   "source": [
    "# # validate correct drop data\n",
    "# df.value_counts(subset =['Year','Month']).sort_index(ascending = False)"
   ]
  },
  {
   "cell_type": "code",
   "execution_count": null,
   "id": "6eb07524",
   "metadata": {},
   "outputs": [],
   "source": [
    "# check missing values\n",
    "\n",
    "def missing_values_table(dataframe, na_name=False):\n",
    "    na_columns = [col for col in dataframe.columns if dataframe[col].isnull().sum() > 0]\n",
    "\n",
    "    n_miss = dataframe[na_columns].isnull().sum().sort_values(ascending=False)\n",
    "    ratio = (dataframe[na_columns].isnull().sum() / dataframe.shape[0] * 100).sort_values(ascending=False)\n",
    "    missing_df = pd.concat([n_miss, np.round(ratio, 2)], axis=1, keys=['n_miss', 'ratio'])\n",
    "    print(missing_df, end=\"\\n\")\n",
    "\n",
    "    if na_name:\n",
    "        return na_columns\n",
    "missing_values_table(df)"
   ]
  },
  {
   "cell_type": "code",
   "execution_count": null,
   "id": "73da4786",
   "metadata": {},
   "outputs": [],
   "source": [
    "msno.matrix(df);"
   ]
  },
  {
   "cell_type": "code",
   "execution_count": null,
   "id": "7881eab2",
   "metadata": {},
   "outputs": [],
   "source": [
    "# change nan to most_frequent (strategy: 'mean', 'median', 'most_frequent', 'constant')\n",
    "imputer = SimpleImputer(missing_values=np.nan, strategy='most_frequent')\n",
    "\n",
    "\n",
    "df['Active_power'] = imputer.fit_transform(df[['Active_power']])\n",
    "\n",
    "df['Reactive_power'] = imputer.fit_transform(df[['Reactive_power']])\n",
    "\n",
    "df['Intensity'] = imputer.fit_transform(df[['Intensity']])\n",
    "\n",
    "df['Kitchen'] = imputer.fit_transform(df[['Kitchen']])\n",
    "\n",
    "df['Laundry room'] = imputer.fit_transform(df[['Laundry room']])\n",
    "\n",
    "df['Electric water-heater'] = imputer.fit_transform(df[['Electric water-heater']])\n"
   ]
  },
  {
   "cell_type": "code",
   "execution_count": null,
   "id": "2dc9386c",
   "metadata": {},
   "outputs": [],
   "source": [
    "df.head()"
   ]
  },
  {
   "cell_type": "code",
   "execution_count": null,
   "id": "1c615df5",
   "metadata": {},
   "outputs": [],
   "source": [
    "df.info()"
   ]
  },
  {
   "cell_type": "code",
   "execution_count": null,
   "id": "b4dcd108",
   "metadata": {},
   "outputs": [],
   "source": [
    "df.describe().T.apply(lambda x: round(x,2))"
   ]
  },
  {
   "cell_type": "code",
   "execution_count": null,
   "id": "7eacffc6",
   "metadata": {},
   "outputs": [],
   "source": [
    "df.isnull().sum() / len(df)"
   ]
  },
  {
   "cell_type": "code",
   "execution_count": null,
   "id": "b988e42d",
   "metadata": {},
   "outputs": [],
   "source": [
    "correlation_matrix = np.round(df.corr(), 3)\n",
    "correlation_matrix"
   ]
  },
  {
   "cell_type": "code",
   "execution_count": null,
   "id": "055ecd0d",
   "metadata": {},
   "outputs": [],
   "source": [
    "sns.set(rc={'figure.figsize':(10,8)})\n",
    "color_map = sns.diverging_palette(240, 10, n=10)\n",
    "heatmap = sns.heatmap(correlation_matrix, cmap=color_map, annot=True, square=True);"
   ]
  },
  {
   "cell_type": "code",
   "execution_count": null,
   "id": "f74ebba3",
   "metadata": {},
   "outputs": [],
   "source": [
    "sns.set_theme(style=\"whitegrid\")\n",
    "sns.boxplot(data=df, orient=\"h\", palette=\"Set2\");\n"
   ]
  }
 ],
 "metadata": {
  "kernelspec": {
   "display_name": "Python 3 (ipykernel)",
   "language": "python",
   "name": "python3"
  },
  "language_info": {
   "codemirror_mode": {
    "name": "ipython",
    "version": 3
   },
   "file_extension": ".py",
   "mimetype": "text/x-python",
   "name": "python",
   "nbconvert_exporter": "python",
   "pygments_lexer": "ipython3",
   "version": "3.6.13"
  }
 },
 "nbformat": 4,
 "nbformat_minor": 5
}
