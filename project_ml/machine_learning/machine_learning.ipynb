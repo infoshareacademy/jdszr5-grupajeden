{
 "cells": [
  {
   "cell_type": "code",
   "execution_count": null,
   "metadata": {},
   "outputs": [],
   "source": [
    "# Imports\n",
    "import numpy as np\n",
    "import pandas as pd\n",
    "import matplotlib.pyplot as plt\n",
    "import seaborn as sns\n",
    "import missingno as msno\n",
    "from sklearn.impute import SimpleImputer\n",
    "from sklearn.dummy import DummyRegressor\n",
    "from sklearn.linear_model import LinearRegression\n",
    "from sklearn.tree import DecisionTreeRegressor\n",
    "from sklearn.ensemble import RandomForestRegressor\n",
    "from sklearn.neighbors import KNeighborsRegressor\n",
    "from xgboost import XGBRegressor\n",
    "from sklearn.metrics import make_scorer, mean_squared_error, r2_score\n",
    "from sklearn.model_selection import cross_val_score, KFold\n",
    "import scikitplot as skplt"
   ]
  },
  {
   "cell_type": "code",
   "execution_count": null,
   "metadata": {},
   "outputs": [],
   "source": [
    "# Importing data\n",
    "df = pd.read_csv(\"household_power_consumption.txt\", sep = \";\", low_memory=False)"
   ]
  },
  {
   "cell_type": "code",
   "execution_count": null,
   "metadata": {},
   "outputs": [],
   "source": [
    "# Data frame info\n",
    "df.info()"
   ]
  },
  {
   "cell_type": "code",
   "execution_count": null,
   "metadata": {},
   "outputs": [],
   "source": [
    "# Checking first 10 rows\n",
    "df.head(10)"
   ]
  },
  {
   "cell_type": "code",
   "execution_count": null,
   "metadata": {},
   "outputs": [],
   "source": [
    "# Renaming columns\n",
    "df.columns = [\"Date\", \"Time\", \"Active_power\", \"Reactive_power\", \n",
    "              \"Voltage\", \"Intensity\", \"Kitchen\", \"Laundry\", \"Heater\"]"
   ]
  },
  {
   "cell_type": "code",
   "execution_count": null,
   "metadata": {},
   "outputs": [],
   "source": [
    "# Checking for duplicates\n",
    "df.duplicated().any()"
   ]
  },
  {
   "cell_type": "code",
   "execution_count": null,
   "metadata": {},
   "outputs": [],
   "source": [
    "# Conversions\n",
    "columns_float = df.columns.drop([\"Date\",\"Time\"])\n",
    "df[columns_float] = df[columns_float].apply(pd.to_numeric, errors=\"coerce\")\n",
    "\n",
    "df[\"Date_time\"] = pd.to_datetime(df[\"Date\"] + df[\"Time\"], format=\"%d/%m/%Y%H:%M:%S\")\n",
    "df = df.drop(columns=[\"Date\", \"Time\"])"
   ]
  },
  {
   "cell_type": "code",
   "execution_count": null,
   "metadata": {},
   "outputs": [],
   "source": [
    "# Removal of incomplete months\n",
    "df = df[df.Date_time < pd.to_datetime(\"2010-11-01\")]\n",
    "df = df[df.Date_time >= pd.to_datetime(\"2007-01-01\")]"
   ]
  },
  {
   "cell_type": "code",
   "execution_count": null,
   "metadata": {},
   "outputs": [],
   "source": [
    "# Index reset\n",
    "df = df.reset_index(drop=True)"
   ]
  },
  {
   "cell_type": "code",
   "execution_count": null,
   "metadata": {},
   "outputs": [],
   "source": [
    "# Finding NaNs\n",
    "\n",
    "def find_nans(dataframe, na_name=False):\n",
    "    \n",
    "    na_columns = [col for col in dataframe.columns if dataframe[col].isnull().sum() > 0]\n",
    "\n",
    "    n_miss = dataframe[na_columns].isnull().sum().sort_values(ascending=False)\n",
    "    ratio = (dataframe[na_columns].isnull().sum() / dataframe.shape[0] * 100).sort_values(ascending=False)\n",
    "    missing_df = pd.concat([n_miss, np.round(ratio, 2)], axis=1, keys=[\"n_miss\", \"ratio\"])\n",
    "    print(missing_df, end=\"\\n\")\n",
    "\n",
    "    if na_name:\n",
    "        return na_columns\n",
    "\n",
    "find_nans(df)"
   ]
  },
  {
   "cell_type": "code",
   "execution_count": null,
   "metadata": {},
   "outputs": [],
   "source": [
    "# NaNs matrix\n",
    "nan_matrix = msno.matrix(df)\n",
    "nan_matrix;"
   ]
  },
  {
   "cell_type": "code",
   "execution_count": null,
   "metadata": {},
   "outputs": [],
   "source": [
    "# Plotting histograms\n",
    "hist_df = df.hist(figsize=(15,15))\n",
    "hist_df;"
   ]
  },
  {
   "cell_type": "code",
   "execution_count": null,
   "metadata": {},
   "outputs": [],
   "source": [
    "# Imputing most frequent values\n",
    "imputer = SimpleImputer(missing_values=np.nan, strategy=\"most_frequent\")\n",
    "\n",
    "df[\"Active_power\"] = imputer.fit_transform(df[[\"Active_power\"]])\n",
    "df[\"Reactive_power\"] = imputer.fit_transform(df[[\"Reactive_power\"]])\n",
    "df[\"Voltage\"] = imputer.fit_transform(df[[\"Voltage\"]])\n",
    "df[\"Intensity\"] = imputer.fit_transform(df[[\"Intensity\"]])\n",
    "df[\"Kitchen\"] = imputer.fit_transform(df[[\"Kitchen\"]])\n",
    "df[\"Laundry\"] = imputer.fit_transform(df[[\"Laundry\"]])\n",
    "df[\"Heater\"] = imputer.fit_transform(df[[\"Heater\"]])"
   ]
  },
  {
   "cell_type": "code",
   "execution_count": null,
   "metadata": {},
   "outputs": [],
   "source": [
    "# Watts to killowats\n",
    "df[\"Kitchen\"] = df[\"Kitchen\"].div(1000)\n",
    "df[\"Laundry\"] = df[\"Laundry\"].div(1000)\n",
    "df[\"Heater\"] = df[\"Heater\"].div(1000)"
   ]
  },
  {
   "cell_type": "code",
   "execution_count": null,
   "metadata": {},
   "outputs": [],
   "source": [
    "# Statistical analysis\n",
    "df.describe().T.apply(lambda x: round(x,2))"
   ]
  },
  {
   "cell_type": "code",
   "execution_count": null,
   "metadata": {},
   "outputs": [],
   "source": [
    "# Changing minutes into hours\n",
    "df = df.resample(\"D\", on=\"Date_time\").agg({\"Active_power\": \"sum\", \n",
    "                                           \"Reactive_power\": \"sum\",\n",
    "                                           \"Voltage\": \"mean\",\n",
    "                                           \"Intensity\": \"mean\",\n",
    "                                           \"Kitchen\": \"sum\",\n",
    "                                           \"Laundry\": \"sum\",\n",
    "                                           \"Heater\": \"sum\"}).reset_index()"
   ]
  },
  {
   "cell_type": "code",
   "execution_count": null,
   "metadata": {},
   "outputs": [],
   "source": [
    "# Suuming up energy consumption\n",
    "sum_of_energy = df[\"Kitchen\"]+df[\"Laundry\"]+df[\"Heater\"]\n",
    "df[\"Sum_of_energy\"] = sum_of_energy"
   ]
  },
  {
   "cell_type": "code",
   "execution_count": null,
   "metadata": {},
   "outputs": [],
   "source": [
    "# Adding new columns\n",
    "df[\"Hour\"] = df.Date_time.dt.hour\n",
    "df[\"Day\"] = df.Date_time.dt.day\n",
    "df[\"Day_of_year\"] = df.Date_time.dt.dayofyear\n",
    "df[\"Weekday\"] = df.Date_time.dt.weekday\n",
    "df[\"Month\"] = df.Date_time.dt.month\n",
    "df[\"Year\"] = df.Date_time.dt.year"
   ]
  },
  {
   "cell_type": "code",
   "execution_count": null,
   "metadata": {},
   "outputs": [],
   "source": [
    "# Adding weekends\n",
    "df[\"Weekend\"] = df[\"Weekday\"].apply(lambda x: 0 if x <5 else 1)"
   ]
  },
  {
   "cell_type": "code",
   "execution_count": null,
   "metadata": {},
   "outputs": [],
   "source": [
    "# Adding seasons\n",
    "seasons = [4, 4, 1, 1, 1, 2, 2, 2, 3, 3, 3, 4]\n",
    "months_to_seasons = dict(zip(range(1,13), seasons))\n",
    "\n",
    "df[\"Season\"] = df.Month.map(months_to_seasons)"
   ]
  },
  {
   "cell_type": "code",
   "execution_count": null,
   "metadata": {},
   "outputs": [],
   "source": [
    "# Adding energy costs\n",
    "def add_avg_cost(row):\n",
    "    if row[\"Year\"] == 2007:\n",
    "        if row[\"Month\"] == 1:\n",
    "            return 10.06\n",
    "        elif row[\"Month\"] == 2:\n",
    "            return 9.89\n",
    "        elif row[\"Month\"] == 3:\n",
    "            return 10.27\n",
    "        elif row[\"Month\"] == 4:\n",
    "            return 10.63\n",
    "        elif row[\"Month\"] == 5:\n",
    "            return 10.77\n",
    "        elif row[\"Month\"] == 6:\n",
    "            return 11.09\n",
    "        elif row[\"Month\"] == 7:\n",
    "            return 11.07\n",
    "        elif row[\"Month\"] == 8:\n",
    "            return 11.07\n",
    "        elif row[\"Month\"] == 9:\n",
    "            return 10.96\n",
    "        elif row[\"Month\"] == 10:\n",
    "            return 10.82\n",
    "        elif row[\"Month\"] == 11:\n",
    "            return 10.70\n",
    "        elif row[\"Month\"] == 12:\n",
    "            return 10.33\n",
    "    elif row[\"Year\"] == 2008:\n",
    "        if row[\"Month\"] == 1:\n",
    "            return 10.14\n",
    "        elif row[\"Month\"] == 2:\n",
    "            return 10.16\n",
    "        elif row[\"Month\"] == 3:\n",
    "            return 10.45\n",
    "        elif row[\"Month\"] == 4:\n",
    "            return 10.93\n",
    "        elif row[\"Month\"] == 5:\n",
    "            return 11.40\n",
    "        elif row[\"Month\"] == 6:\n",
    "            return 11.77\n",
    "        elif row[\"Month\"] == 7:\n",
    "            return 12.07\n",
    "        elif row[\"Month\"] == 8:\n",
    "            return 12.09\n",
    "        elif row[\"Month\"] == 9:\n",
    "            return 11.92\n",
    "        elif row[\"Month\"] == 10:\n",
    "            return 11.81\n",
    "        elif row[\"Month\"] == 11:\n",
    "            return 11.42\n",
    "        elif row[\"Month\"] == 12:\n",
    "            return 10.86\n",
    "    elif row[\"Year\"] == 2009:\n",
    "        if row[\"Month\"] == 1:\n",
    "            return 10.98\n",
    "        elif row[\"Month\"] == 2:\n",
    "            return 11.18\n",
    "        elif row[\"Month\"] == 3:\n",
    "            return 11.28\n",
    "        elif row[\"Month\"] == 4:\n",
    "            return 11.50\n",
    "        elif row[\"Month\"] == 5:\n",
    "            return 11.78\n",
    "        elif row[\"Month\"] == 6:\n",
    "            return 11.81\n",
    "        elif row[\"Month\"] == 7:\n",
    "            return 11.85\n",
    "        elif row[\"Month\"] == 8:\n",
    "            return 11.94\n",
    "        elif row[\"Month\"] == 9:\n",
    "            return 11.96\n",
    "        elif row[\"Month\"] == 10:\n",
    "            return 11.65\n",
    "        elif row[\"Month\"] == 11:\n",
    "            return 11.26\n",
    "        elif row[\"Month\"] == 12:\n",
    "            return 10.90\n",
    "    elif row[\"Year\"] == 2010:\n",
    "        if row[\"Month\"] == 1:\n",
    "            return 10.89\n",
    "        elif row[\"Month\"] == 2:\n",
    "            return 11.11\n",
    "        elif row[\"Month\"] == 3:\n",
    "            return 11.11\n",
    "        elif row[\"Month\"] == 4:\n",
    "            return 11.71\n",
    "        elif row[\"Month\"] == 5:\n",
    "            return 11.91\n",
    "        elif row[\"Month\"] == 6:\n",
    "            return 11.91\n",
    "        elif row[\"Month\"] == 7:\n",
    "            return 12.04\n",
    "        elif row[\"Month\"] == 8:\n",
    "            return 12.03\n",
    "        elif row[\"Month\"] == 9:\n",
    "            return 11.95\n",
    "        elif row[\"Month\"] == 10:\n",
    "            return 11.86\n",
    "        \n",
    "df[\"Avg_cost\"] = df.apply(lambda row: add_avg_cost(row), axis=1)"
   ]
  },
  {
   "cell_type": "code",
   "execution_count": null,
   "metadata": {},
   "outputs": [],
   "source": [
    "# Adding daily energy cost\n",
    "df[\"Sum_cost\"] = df[\"Sum_of_energy\"] * df[\"Avg_cost\"]"
   ]
  },
  {
   "cell_type": "code",
   "execution_count": null,
   "metadata": {},
   "outputs": [],
   "source": [
    "# Statistical analysis\n",
    "df.describe().T"
   ]
  },
  {
   "cell_type": "code",
   "execution_count": null,
   "metadata": {},
   "outputs": [],
   "source": [
    "# Correlation matrix\n",
    "correlation_matrix = np.round(df.corr(), 3)\n",
    "correlation_matrix"
   ]
  },
  {
   "cell_type": "code",
   "execution_count": null,
   "metadata": {},
   "outputs": [],
   "source": [
    "# Heatmap\n",
    "sns.set(rc={\"figure.figsize\":(15,10)})\n",
    "color_map = sns.diverging_palette(240, 10, n=10)\n",
    "heatmap = sns.heatmap(correlation_matrix, cmap=color_map, annot=True, square=True);"
   ]
  },
  {
   "cell_type": "code",
   "execution_count": null,
   "metadata": {},
   "outputs": [],
   "source": [
    "# Creating new data frame with date as an index\n",
    "df_date = df.copy(deep=True)\n",
    "df_date.index = df_date[\"Date_time\"]\n",
    "df_date = df_date.drop(columns=[\"Date_time\", \"Hour\", \"Day\", \"Day_of_year\", \n",
    "                       \"Weekday\", \"Month\", \"Year\", \"Weekend\", \"Season\", \"Avg_cost\"])"
   ]
  },
  {
   "cell_type": "code",
   "execution_count": null,
   "metadata": {},
   "outputs": [],
   "source": [
    "# Plotting all columns\n",
    "fig, ax = plt.subplots(figsize = (20,24))\n",
    "for i in range(len(df_date.columns)):\n",
    "    plt.subplot(len(df_date.columns),1,i+1)\n",
    "    name = df_date.columns[i]\n",
    "    plt.plot(df_date[name])\n",
    "    plt.title(name,y = 0,loc = \"left\")\n",
    "    plt.yticks([])\n",
    "fig.tight_layout()\n",
    "plt.show()"
   ]
  },
  {
   "cell_type": "code",
   "execution_count": null,
   "metadata": {},
   "outputs": [],
   "source": [
    "# Plotting daily usage\n",
    "df_date.Sum_of_energy.resample(\"D\").sum().plot(figsize=(18,5),title=\"Dzienne zużycie prądu:\")\n",
    "plt.tight_layout()\n",
    "plt.show() "
   ]
  },
  {
   "cell_type": "code",
   "execution_count": null,
   "metadata": {},
   "outputs": [],
   "source": [
    "# Plotting monthly usage\n",
    "df_date.Sum_of_energy.resample(\"M\").sum().plot(kind=\"bar\", figsize=(12,6),\n",
    "                                               title=\"Miesięczne zużycie prądu:\")\n",
    "plt.tight_layout()\n",
    "plt.show()"
   ]
  },
  {
   "cell_type": "code",
   "execution_count": null,
   "metadata": {},
   "outputs": [],
   "source": [
    "# Plotting quarterly usage\n",
    "df_date.Sum_of_energy.resample(\"Q\").sum().plot(kind=\"bar\", figsize=(10,5),\n",
    "                                               title=\"Kwartalne zużycie prądu:\")\n",
    "plt.tight_layout()\n",
    "plt.show()"
   ]
  },
  {
   "cell_type": "code",
   "execution_count": null,
   "metadata": {},
   "outputs": [],
   "source": [
    "# Plotting usage year by year\n",
    "years = [\"2007\", \"2008\", \"2009\", \"2010\"]\n",
    "fig, ax = plt.subplots(figsize = (20,20))\n",
    "\n",
    "for i in range(len(years)):\n",
    "    plt.subplot(len(df_date.columns),1, i+1)\n",
    "    year = years[i]\n",
    "    sum_of_energy_data = df_date[str(year)][\"Sum_of_energy\"]\n",
    "    plt.plot(sum_of_energy_data)\n",
    "plt.show()"
   ]
  },
  {
   "cell_type": "code",
   "execution_count": null,
   "metadata": {},
   "outputs": [],
   "source": [
    "# Plotting additional usage plots\n",
    "hours_plots = df_date.Sum_of_energy.resample(\"D\").agg([\"max\", \"mean\", \"min\"])\n",
    "hours_plots.plot(subplots=True, figsize=(20, 10), title=\"Zużycie prądu rok do roku:\")\n",
    "plt.show()"
   ]
  },
  {
   "cell_type": "code",
   "execution_count": null,
   "metadata": {},
   "outputs": [],
   "source": [
    "# Comparing usage year by year\n",
    "plt.figure(figsize=(15,5))\n",
    "plt.title(\"Zużycie prądu na przestrzeni lat oraz miesięcy:\", y=1.015)\n",
    "sns.barplot(x=\"Month\", y=\"Sum_of_energy\", hue=\"Year\", data=df)\n",
    "plt.legend(loc=\"upper right\")\n",
    "plt.show()"
   ]
  },
  {
   "cell_type": "code",
   "execution_count": null,
   "metadata": {},
   "outputs": [],
   "source": [
    "# Validation\n",
    "kf = KFold(n_splits=5, shuffle=True, random_state=42)\n",
    "\n",
    "train_mask = df[\"Date_time\"] < \"2010-08-01\"\n",
    "test_mask = df[\"Date_time\"] >= \"2010-08-01\"\n",
    "\n",
    "df_train = df.loc[train_mask]\n",
    "df_test = df.loc[test_mask]"
   ]
  },
  {
   "cell_type": "code",
   "execution_count": null,
   "metadata": {},
   "outputs": [],
   "source": [
    "# Running models\n",
    "def run_model(model, X, y, cross_val):\n",
    "    model_name = type(model).__name__\n",
    "\n",
    "    rmse = np.sqrt(-cross_val_score(model, X, y, cv=cross_val, scoring=\"neg_root_mean_squared_error\"))\n",
    "    r2 = cross_val_score(model, X, y, cv=cross_val, scoring=\"r2\")\n",
    "    print(\"{} rmse: {:.4f}, r2: {:.1f}%\".format(model_name, np.mean(rmse), 100*np.mean(r2)))"
   ]
  },
  {
   "cell_type": "code",
   "execution_count": null,
   "metadata": {},
   "outputs": [],
   "source": [
    "# Plotting feature importances\n",
    "def plot_feature_importances(model, feat_list, ax):\n",
    "\n",
    "    model_name = type(model).__name__\n",
    "    skplt.estimators.plot_feature_importances(model, feature_names=df[feat_list].columns,\n",
    "                                            title=f\"{model_name} feature importances\", ax=ax)\n",
    "    plt.xticks(rotation=90)"
   ]
  },
  {
   "cell_type": "code",
   "execution_count": null,
   "metadata": {},
   "outputs": [],
   "source": [
    "# Models\n",
    "Dummy_model = DummyRegressor(strategy=\"mean\")\n",
    "DT_model = DecisionTreeRegressor(max_depth=3, random_state=42)\n",
    "RF_model = RandomForestRegressor(max_depth=3, random_state=42)\n",
    "XGB_model = XGBRegressor(max_depth=3, objective=\"reg:squarederror\", random_state=42)\n",
    "\n",
    "models = [Dummy_model, DT_model, RF_model, XGB_model]"
   ]
  },
  {
   "cell_type": "code",
   "execution_count": null,
   "metadata": {},
   "outputs": [],
   "source": [
    "# Train / test split\n",
    "def get_quant_features(df, black_list):\n",
    "    feats = df.select_dtypes([np.number, np.bool]).columns\n",
    "    return [x for x in feats if x not in black_list]\n",
    "\n",
    "black_list = [\"Sum_cost\", \"Sum_of_energy\"]\n",
    "\n",
    "feats = get_quant_features(df, black_list)\n",
    "\n",
    "X_train = df_train[feats].values\n",
    "y_train = df_train[\"Sum_cost\"].values\n",
    "\n",
    "X_test = df_test[feats].values\n",
    "y_test = df_test[\"Sum_cost\"].values"
   ]
  },
  {
   "cell_type": "code",
   "execution_count": null,
   "metadata": {},
   "outputs": [],
   "source": [
    "# Running models\n",
    "for model in models:\n",
    "    run_model(model, X_train, y_train, kf)"
   ]
  },
  {
   "cell_type": "code",
   "execution_count": null,
   "metadata": {},
   "outputs": [],
   "source": [
    "# Fitting\n",
    "for model in models:\n",
    "    model.fit(X_train, y_train)"
   ]
  },
  {
   "cell_type": "code",
   "execution_count": null,
   "metadata": {},
   "outputs": [],
   "source": [
    "# Feature importances\n",
    "fig=plt.figure(figsize=(15,6))\n",
    "for i, model in enumerate(models[1:]):\n",
    "    ax=fig.add_subplot(1,3,i+1)\n",
    "    plot_feature_importances(model, feats, ax=ax)\n",
    "fig.tight_layout()\n",
    "plt.show()"
   ]
  }
 ],
 "metadata": {
  "kernelspec": {
   "display_name": "Python 3.8.5 64-bit ('base': conda)",
   "language": "python",
   "name": "python385jvsc74a57bd040d3a090f54c6569ab1632332b64b2c03c39dcf918b08424e98f38b5ae0af88f"
  },
  "language_info": {
   "codemirror_mode": {
    "name": "ipython",
    "version": 3
   },
   "file_extension": ".py",
   "mimetype": "text/x-python",
   "name": "python",
   "nbconvert_exporter": "python",
   "pygments_lexer": "ipython3",
   "version": "3.8.5"
  }
 },
 "nbformat": 4,
 "nbformat_minor": 4
}
