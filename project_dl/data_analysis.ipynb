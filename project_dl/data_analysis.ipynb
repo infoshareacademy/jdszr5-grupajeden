{
 "cells": [
  {
   "cell_type": "code",
   "execution_count": null,
   "metadata": {
    "id": "cP033qaEjjdp"
   },
   "outputs": [],
   "source": [
    "import numpy as np\n",
    "import glob\n",
    "import os\n",
    "import random\n",
    "import matplotlib.pyplot as plt\n",
    "import matplotlib.image as mpimg\n",
    "import pathlib\n",
    "import PIL\n",
    "import PIL.Image"
   ]
  },
  {
   "cell_type": "code",
   "execution_count": null,
   "metadata": {
    "colab": {
     "base_uri": "https://localhost:8080/"
    },
    "id": "ZJDcTKE_jjdr",
    "outputId": "279e806c-a80f-4673-8d57-ad577ff2e1e8"
   },
   "outputs": [],
   "source": [
    "data_dir = os.path.join(\"data_full\")\n",
    "\n",
    "labels = [\"cardboard\", \"glass\", \"metal\", \"paper\", \"plastic\", \"trash\"]\n",
    "\n",
    "for label in labels:\n",
    "    directory = os.path.join(data_dir, label)\n",
    "    print(f\"Images of label \\\"{label}\\\":\\t{len(os.listdir(directory))}\")"
   ]
  },
  {
   "cell_type": "code",
   "execution_count": null,
   "metadata": {
    "colab": {
     "base_uri": "https://localhost:8080/"
    },
    "id": "bGcPr7n8jjds",
    "outputId": "8912acde-d0d2-45e9-9b0d-b6b6e66f4445"
   },
   "outputs": [],
   "source": [
    "for i in range(6):\n",
    "    directory = os.path.join(data_dir, labels[i])\n",
    "    for j in range(20):\n",
    "        path = os.path.join(directory, os.listdir(directory)[j])\n",
    "        image = mpimg.imread(path)\n",
    "        print(image.shape)"
   ]
  },
  {
   "cell_type": "code",
   "execution_count": null,
   "metadata": {
    "colab": {
     "base_uri": "https://localhost:8080/",
     "height": 685
    },
    "id": "cz0M8EJOjjds",
    "outputId": "711e3890-dbbc-4966-facf-ffc78057d28c"
   },
   "outputs": [],
   "source": [
    "plt.figure(figsize=(32,16))\n",
    "\n",
    "for i in range(6):\n",
    "    directory = os.path.join(data_dir, labels[i])\n",
    "    for j in range(8):\n",
    "        path = os.path.join(directory, os.listdir(directory)[j])\n",
    "        img = mpimg.imread(path)\n",
    "        \n",
    "        plt.subplot(6, 8, i*8 + j + 1)\n",
    "        plt.imshow(img)\n",
    "        \n",
    "        if j == 0:\n",
    "            plt.ylabel(labels[i], fontsize=26)\n",
    "        \n",
    "plt.setp(plt.gcf().get_axes(), xticks=[], yticks=[]);\n",
    "plt.tight_layout()\n",
    "plt.show()"
   ]
  }
 ],
 "metadata": {
  "accelerator": "GPU",
  "colab": {
   "name": "model_gl.ipynb",
   "provenance": []
  },
  "kernelspec": {
   "display_name": "Python 3 (ipykernel)",
   "language": "python",
   "name": "python3"
  },
  "language_info": {
   "codemirror_mode": {
    "name": "ipython",
    "version": 3
   },
   "file_extension": ".py",
   "mimetype": "text/x-python",
   "name": "python",
   "nbconvert_exporter": "python",
   "pygments_lexer": "ipython3",
   "version": "3.7.11"
  },
  "toc": {
   "base_numbering": 1,
   "nav_menu": {},
   "number_sections": true,
   "sideBar": true,
   "skip_h1_title": true,
   "title_cell": "Table of Contents",
   "title_sidebar": "Contents",
   "toc_cell": true,
   "toc_position": {
    "height": "1118px",
    "left": "93px",
    "top": "222px",
    "width": "394px"
   },
   "toc_section_display": true,
   "toc_window_display": true
  }
 },
 "nbformat": 4,
 "nbformat_minor": 1
}
