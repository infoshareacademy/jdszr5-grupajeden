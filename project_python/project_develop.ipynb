{
 "cells": [
  {
   "cell_type": "code",
   "execution_count": 4,
   "metadata": {},
   "outputs": [],
   "source": [
    "# Importing libraries\n",
    "import pandas as pd\n",
    "import matplotlib.pyplot as plt\n",
    "import plotly as py\n",
    "import plotly.graph_objs as go\n",
    "import cufflinks\n",
    "import ipywidgets as widgets\n",
    "from IPython.display import display"
   ]
  },
  {
   "cell_type": "code",
   "execution_count": 6,
   "metadata": {},
   "outputs": [
    {
     "data": {
      "text/html": [
       "<div>\n",
       "<style scoped>\n",
       "    .dataframe tbody tr th:only-of-type {\n",
       "        vertical-align: middle;\n",
       "    }\n",
       "\n",
       "    .dataframe tbody tr th {\n",
       "        vertical-align: top;\n",
       "    }\n",
       "\n",
       "    .dataframe thead th {\n",
       "        text-align: right;\n",
       "    }\n",
       "</style>\n",
       "<table border=\"1\" class=\"dataframe\">\n",
       "  <thead>\n",
       "    <tr style=\"text-align: right;\">\n",
       "      <th></th>\n",
       "      <th>Group Name</th>\n",
       "      <th>Total Snatched</th>\n",
       "      <th>Artist</th>\n",
       "      <th>Group Year</th>\n",
       "      <th>Release Type</th>\n",
       "      <th>Group ID</th>\n",
       "      <th>ID</th>\n",
       "    </tr>\n",
       "  </thead>\n",
       "  <tbody>\n",
       "  </tbody>\n",
       "</table>\n",
       "</div>"
      ],
      "text/plain": [
       "Empty DataFrame\n",
       "Columns: [Group Name, Total Snatched, Artist, Group Year, Release Type, Group ID, ID]\n",
       "Index: []"
      ]
     },
     "execution_count": 6,
     "metadata": {},
     "output_type": "execute_result"
    }
   ],
   "source": [
    "# Data cleaning\n",
    "\n",
    "# Creating dataframes\n",
    "tags = pd.read_csv(\"tags.csv\")\n",
    "torrents = pd.read_csv(\"torrents.csv\")\n",
    "\n",
    "# Changing columns names\n",
    "tags.rename(columns={\"index\": \"Index\", \"id\": \"ID\", \"tag\": \"Tag\"}, inplace=True)\n",
    "torrents.rename(columns={\"groupName\": \"Group Name\", \"totalSnatched\": \"Total Snatched\", \"artist\": \"Artist\", \n",
    "                        \"groupYear\": \"Group Year\", \"releaseType\": \"Release Type\", \"groupId\": \"Group ID\",\n",
    "                        \"id\": \"ID\"}, inplace=True)\n",
    "\n",
    "# Converting into title format\n",
    "tags[\"Tag\"] = tags[\"Tag\"].str.title()\n",
    "torrents[\"Group Name\"] = torrents[\"Group Name\"].str.title()\n",
    "torrents[\"Artist\"] = torrents[\"Artist\"].str.title()\n",
    "torrents[\"Release Type\"] = torrents[\"Release Type\"].str.title()\n",
    "\n",
    "# Replacing wrong characters\n",
    "tags[\"Tag\"] = tags[\"Tag\"].str.replace(\".\", \" \")\n",
    "tags[\"Tag\"] = tags[\"Tag\"].str.replace(\"S$\", \"s\", regex = True)\n",
    "torrents[\"Group Name\"] = torrents[\"Group Name\"].str.replace(\"&#39;\", \"'\")\n",
    "torrents[\"Group Name\"] = torrents[\"Group Name\"].str.replace(\"&Amp;\", \"&\")\n",
    "torrents[\"Group Name\"] = torrents[\"Group Name\"].str.replace(\"&Quot;\", \"\\\"\")\n",
    "torrents[\"Group Name\"] = torrents[\"Group Name\"].str.replace(\"&Aacute;\", \"á\")\n",
    "torrents[\"Artist\"] = torrents[\"Artist\"].str.replace(\"&#39;\", \"'\")\n",
    "torrents[\"Artist\"] = torrents[\"Artist\"].str.replace(\"&Amp;\", \"&\")\n",
    "torrents[\"Artist\"] = torrents[\"Artist\"].str.replace(\"&Quot;\", \"\\\"\")\n",
    "torrents[\"Artist\"] = torrents[\"Artist\"].str.replace(\"&Aacute;\", \"á\")\n",
    "\n",
    "# Checking for NaNs in tags dataframe\n",
    "is_NaN_tags = tags.isnull()\n",
    "row_has_NaN_tags = is_NaN_tags.any(axis=1)\n",
    "rows_with_NaN_tags = tags[row_has_NaN_tags]\n",
    "\n",
    "# Checking for NaNs in torrents dataframe\n",
    "is_NaN_torrents = torrents.isnull()\n",
    "row_has_NaN_torrents = is_NaN_torrents.any(axis=1)\n",
    "rows_with_NaN_torrents = torrents[row_has_NaN_torrents]\n",
    "\n",
    "# Removing NaNs and reset indexes\n",
    "tags = tags.dropna().reset_index(drop=True)\n",
    "torrents = torrents.dropna().reset_index(drop=True)\n",
    "\n",
    "# Checking for duplicates\n",
    "torrents[torrents.duplicated(subset=\"ID\")]"
   ]
  },
  {
   "cell_type": "code",
   "execution_count": 7,
   "metadata": {},
   "outputs": [],
   "source": [
    "def main():\n",
    "    print(\"wybierz jedną z opcji:\")\n",
    "    show_widget()\n",
    "    \n",
    "def show_widget():\n",
    "    display(my_choice_widget, handler_out)\n",
    "    \n",
    "def my_choice_handler(widget_value):\n",
    "    print(f\"pracuje z {widget_value}\")\n",
    "\n",
    "def button_1_callback(button):\n",
    "    print(\"Tutorial\")\n",
    "    \n",
    "def button_2_callback(button):\n",
    "    print(\"Wizualizacja\")\n",
    "    \n",
    "def button_3_callback(button):\n",
    "    print(\"Statystyka\")\n",
    "    \n",
    "my_choice_widget = widgets.Dropdown(options=[\"Tutorial\", \"Wizualizacja\", \"Statystyka\"])\n",
    "handler_out = widgets.interactive_output(my_choice_handler, {\"widget_value\": my_choice_widget})\n",
    "\n",
    "button_1 = widgets.Button(description=\"Run 1\")\n",
    "button_2 = widgets.Button(description=\"Run 2\")\n",
    "button_3 = widgets.Button(description=\"Run 3\")\n",
    "\n",
    "button_1.on_click(button_1_callback)\n",
    "button_2.on_click(button_2_callback)\n",
    "button_3.on_click(button_3_callback)"
   ]
  },
  {
   "cell_type": "code",
   "execution_count": 12,
   "metadata": {},
   "outputs": [],
   "source": [
    "def artist_rank():\n",
    "    x = input(\"wybierz ilu topowych artystów chcesz zobaczyć:\")\n",
    "    while x.isdigit() == False or int(x)>50:\n",
    "        x = input(\"Podana wartość musi być liczbą mniejszą lub rowna 50\")\n",
    "    x = int(x)\n",
    "    torrents_df = torrents[[\"Artist\",\"Total Snatched\" ]]\n",
    "    grouped_torrents_df = torrents_df.groupby(by=\"Artist\")\n",
    "    sum_grouped_torrents_df = grouped_torrents_df.sum()\n",
    "    print(sum_grouped_torrents_df.sort_values(\"Total Snatched\",ascending=False)[:x])"
   ]
  }
 ],
 "metadata": {
  "kernelspec": {
   "display_name": "Python 3",
   "language": "python",
   "name": "python3"
  },
  "language_info": {
   "codemirror_mode": {
    "name": "ipython",
    "version": 3
   },
   "file_extension": ".py",
   "mimetype": "text/x-python",
   "name": "python",
   "nbconvert_exporter": "python",
   "pygments_lexer": "ipython3",
   "version": "3.8.5"
  }
 },
 "nbformat": 4,
 "nbformat_minor": 5
}
