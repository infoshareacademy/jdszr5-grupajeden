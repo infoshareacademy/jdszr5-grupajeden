{
 "cells": [
  {
   "cell_type": "code",
   "execution_count": 1,
   "metadata": {},
   "outputs": [],
   "source": [
    "# Importing pandas\n",
    "import pandas as pd"
   ]
  },
  {
   "cell_type": "code",
   "execution_count": 2,
   "metadata": {},
   "outputs": [],
   "source": [
    "# Creating dataframes\n",
    "tags = pd.read_csv(\"tags.csv\")\n",
    "torrents = pd.read_csv(\"torrents.csv\")"
   ]
  },
  {
   "cell_type": "code",
   "execution_count": 3,
   "metadata": {},
   "outputs": [],
   "source": [
    "# Changing columns names\n",
    "tags.rename(columns={\"index\": \"Index\", \"id\": \"ID\", \"tag\": \"Tag\"}, inplace=True)\n",
    "torrents.rename(columns={\"groupName\": \"Group Name\", \"totalSnatched\": \"Total Snatched\", \"artist\": \"Artist\", \n",
    "                        \"groupYear\": \"Group Year\", \"releaseType\": \"Release Type\", \"groupId\": \"Group ID\",\n",
    "                        \"id\": \"ID\"}, inplace=True)"
   ]
  },
  {
   "cell_type": "code",
   "execution_count": 4,
   "metadata": {},
   "outputs": [],
   "source": [
    "# Converting into title format\n",
    "tags[\"Tag\"] = tags[\"Tag\"].str.title()\n",
    "torrents[\"Group Name\"] = torrents[\"Group Name\"].str.title()\n",
    "torrents[\"Artist\"] = torrents[\"Artist\"].str.title()\n",
    "torrents[\"Release Type\"] = torrents[\"Release Type\"].str.title()"
   ]
  },
  {
   "cell_type": "code",
   "execution_count": 5,
   "metadata": {},
   "outputs": [],
   "source": [
    "# Replacing wrong characters\n",
    "tags[\"Tag\"] = tags[\"Tag\"].str.replace(\".\", \" \")\n",
    "tags[\"Tag\"] = tags[\"Tag\"].str.replace(\"S$\", \"s\", regex = True)\n",
    "torrents[\"Group Name\"] = torrents[\"Group Name\"].str.replace(\"&#39;\", \"'\")\n",
    "torrents[\"Group Name\"] = torrents[\"Group Name\"].str.replace(\"&Amp;\", \"&\")\n",
    "torrents[\"Group Name\"] = torrents[\"Group Name\"].str.replace(\"&Quot;\", \"\\\"\")\n",
    "torrents[\"Group Name\"] = torrents[\"Group Name\"].str.replace(\"&Aacute;\", \"á\")\n",
    "torrents[\"Artist\"] = torrents[\"Artist\"].str.replace(\"&#39;\", \"'\")\n",
    "torrents[\"Artist\"] = torrents[\"Artist\"].str.replace(\"&Amp;\", \"&\")\n",
    "torrents[\"Artist\"] = torrents[\"Artist\"].str.replace(\"&Quot;\", \"\\\"\")\n",
    "torrents[\"Artist\"] = torrents[\"Artist\"].str.replace(\"&Aacute;\", \"á\")"
   ]
  },
  {
   "cell_type": "code",
   "execution_count": 6,
   "metadata": {},
   "outputs": [],
   "source": [
    "# Checking for NaNs in tags dataframe\n",
    "is_NaN_tags = tags.isnull()\n",
    "row_has_NaN_tags = is_NaN_tags.any(axis=1)\n",
    "rows_with_NaN_tags = tags[row_has_NaN_tags]\n",
    "\n",
    "# Checking for NaNs in torrents dataframe\n",
    "is_NaN_torrents = torrents.isnull()\n",
    "row_has_NaN_torrents = is_NaN_torrents.any(axis=1)\n",
    "rows_with_NaN_torrents = torrents[row_has_NaN_torrents]"
   ]
  },
  {
   "cell_type": "code",
   "execution_count": 7,
   "metadata": {},
   "outputs": [],
   "source": [
    "# Removing NaNs and reset indexes\n",
    "tags = tags.dropna().reset_index(drop=True)\n",
    "torrents = torrents.dropna().reset_index(drop=True)"
   ]
  },
  {
   "cell_type": "code",
   "execution_count": 8,
   "metadata": {},
   "outputs": [
    {
     "data": {
      "text/html": [
       "<div>\n",
       "<style scoped>\n",
       "    .dataframe tbody tr th:only-of-type {\n",
       "        vertical-align: middle;\n",
       "    }\n",
       "\n",
       "    .dataframe tbody tr th {\n",
       "        vertical-align: top;\n",
       "    }\n",
       "\n",
       "    .dataframe thead th {\n",
       "        text-align: right;\n",
       "    }\n",
       "</style>\n",
       "<table border=\"1\" class=\"dataframe\">\n",
       "  <thead>\n",
       "    <tr style=\"text-align: right;\">\n",
       "      <th></th>\n",
       "      <th>Group Name</th>\n",
       "      <th>Total Snatched</th>\n",
       "      <th>Artist</th>\n",
       "      <th>Group Year</th>\n",
       "      <th>Release Type</th>\n",
       "      <th>Group ID</th>\n",
       "      <th>ID</th>\n",
       "    </tr>\n",
       "  </thead>\n",
       "  <tbody>\n",
       "  </tbody>\n",
       "</table>\n",
       "</div>"
      ],
      "text/plain": [
       "Empty DataFrame\n",
       "Columns: [Group Name, Total Snatched, Artist, Group Year, Release Type, Group ID, ID]\n",
       "Index: []"
      ]
     },
     "execution_count": 8,
     "metadata": {},
     "output_type": "execute_result"
    }
   ],
   "source": [
    "# Checking for duplicates\n",
    "torrents[torrents.duplicated(subset=\"ID\")]"
   ]
  }
 ],
 "metadata": {
  "interpreter": {
   "hash": "40d3a090f54c6569ab1632332b64b2c03c39dcf918b08424e98f38b5ae0af88f"
  },
  "kernelspec": {
   "display_name": "Python 3.8.5 64-bit ('base': conda)",
   "language": "python",
   "name": "python3"
  },
  "language_info": {
   "codemirror_mode": {
    "name": "ipython",
    "version": 3
   },
   "file_extension": ".py",
   "mimetype": "text/x-python",
   "name": "python",
   "nbconvert_exporter": "python",
   "pygments_lexer": "ipython3",
   "version": "3.8.5"
  },
  "orig_nbformat": 4
 },
 "nbformat": 4,
 "nbformat_minor": 2
}
