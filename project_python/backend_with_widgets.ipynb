{
 "cells": [
  {
   "cell_type": "code",
   "execution_count": 1,
   "metadata": {},
   "outputs": [],
   "source": [
    "# Importing libraries\n",
    "import pandas as pd\n",
    "import matplotlib.pyplot as plt\n",
    "import plotly as py\n",
    "import plotly.graph_objs as go\n",
    "import cufflinks\n",
    "import ipywidgets as widgets\n",
    "from IPython.display import display"
   ]
  },
  {
   "cell_type": "code",
   "execution_count": 2,
   "metadata": {},
   "outputs": [
    {
     "data": {
      "text/html": [
       "<div>\n",
       "<style scoped>\n",
       "    .dataframe tbody tr th:only-of-type {\n",
       "        vertical-align: middle;\n",
       "    }\n",
       "\n",
       "    .dataframe tbody tr th {\n",
       "        vertical-align: top;\n",
       "    }\n",
       "\n",
       "    .dataframe thead th {\n",
       "        text-align: right;\n",
       "    }\n",
       "</style>\n",
       "<table border=\"1\" class=\"dataframe\">\n",
       "  <thead>\n",
       "    <tr style=\"text-align: right;\">\n",
       "      <th></th>\n",
       "      <th>Group Name</th>\n",
       "      <th>Total Snatched</th>\n",
       "      <th>Artist</th>\n",
       "      <th>Group Year</th>\n",
       "      <th>Release Type</th>\n",
       "      <th>Group ID</th>\n",
       "      <th>ID</th>\n",
       "    </tr>\n",
       "  </thead>\n",
       "  <tbody>\n",
       "  </tbody>\n",
       "</table>\n",
       "</div>"
      ],
      "text/plain": [
       "Empty DataFrame\n",
       "Columns: [Group Name, Total Snatched, Artist, Group Year, Release Type, Group ID, ID]\n",
       "Index: []"
      ]
     },
     "execution_count": 2,
     "metadata": {},
     "output_type": "execute_result"
    }
   ],
   "source": [
    "# Data cleaning\n",
    "\n",
    "# Creating dataframes\n",
    "tags = pd.read_csv(\"tags.csv\")\n",
    "torrents = pd.read_csv(\"torrents.csv\")\n",
    "\n",
    "# Changing columns names\n",
    "tags.rename(columns={\"index\": \"Index\", \"id\": \"ID\", \"tag\": \"Tag\"}, inplace=True)\n",
    "torrents.rename(columns={\"groupName\": \"Group Name\", \"totalSnatched\": \"Total Snatched\", \"artist\": \"Artist\", \n",
    "                        \"groupYear\": \"Group Year\", \"releaseType\": \"Release Type\", \"groupId\": \"Group ID\",\n",
    "                        \"id\": \"ID\"}, inplace=True)\n",
    "\n",
    "# Converting into title format\n",
    "tags[\"Tag\"] = tags[\"Tag\"].str.title()\n",
    "torrents[\"Group Name\"] = torrents[\"Group Name\"].str.title()\n",
    "torrents[\"Artist\"] = torrents[\"Artist\"].str.title()\n",
    "torrents[\"Release Type\"] = torrents[\"Release Type\"].str.title()\n",
    "\n",
    "# Replacing wrong characters\n",
    "tags[\"Tag\"] = tags[\"Tag\"].str.replace(\".\", \" \")\n",
    "tags[\"Tag\"] = tags[\"Tag\"].str.replace(\"S$\", \"s\", regex = True)\n",
    "torrents[\"Group Name\"] = torrents[\"Group Name\"].str.replace(\"&#39;\", \"'\")\n",
    "torrents[\"Group Name\"] = torrents[\"Group Name\"].str.replace(\"&Amp;\", \"&\")\n",
    "torrents[\"Group Name\"] = torrents[\"Group Name\"].str.replace(\"&Quot;\", \"\\\"\")\n",
    "torrents[\"Group Name\"] = torrents[\"Group Name\"].str.replace(\"&Aacute;\", \"á\")\n",
    "torrents[\"Artist\"] = torrents[\"Artist\"].str.replace(\"&#39;\", \"'\")\n",
    "torrents[\"Artist\"] = torrents[\"Artist\"].str.replace(\"&Amp;\", \"&\")\n",
    "torrents[\"Artist\"] = torrents[\"Artist\"].str.replace(\"&Quot;\", \"\\\"\")\n",
    "torrents[\"Artist\"] = torrents[\"Artist\"].str.replace(\"&Aacute;\", \"á\")\n",
    "\n",
    "# Checking for NaNs in tags dataframe\n",
    "is_NaN = tags.isnull()\n",
    "row_has_NaN = is_NaN.any(axis=1)\n",
    "rows_with_NaN = tags[row_has_NaN]\n",
    "\n",
    "# Checking for NaNs in torrents dataframe\n",
    "is_NaN = torrents.isnull()\n",
    "row_has_NaN = is_NaN.any(axis=1)\n",
    "rows_with_NaN = torrents[row_has_NaN]\n",
    "\n",
    "# Removing NaNs and reset indexes\n",
    "tags = tags.dropna().reset_index(drop=True)\n",
    "torrents = torrents.dropna().reset_index(drop=True)\n",
    "\n",
    "# Checking for duplicates\n",
    "torrents[torrents.duplicated(subset=\"ID\")]"
   ]
  },
  {
   "cell_type": "code",
   "execution_count": 17,
   "metadata": {},
   "outputs": [],
   "source": [
    "# Backend with widgets\n",
    "\n",
    "# Main function\n",
    "def main():\n",
    "    print(\"Co słychać w Zatoce Piratów?\\nAplikacja jest do Twojej dyspozycji!\\nWprowadź właściwe polecenie:\\n\")\n",
    "    print(\"O dla Opisu\\nS dla Statystyk\\nW dla Wizualizacji\\n\")\n",
    "    choice_main = input()\n",
    "    choice_tree_main(choice_main)\n",
    "\n",
    "# Main choice tree function\n",
    "def choice_tree_main(choice_main):\n",
    "    if choice_main.upper() not in [\"O\", \"S\", \"W\"]:\n",
    "        choice_main = input(\"\\nSprawdź poprawność swojego zapytania.\")\n",
    "    elif choice_main.upper() == \"O\":\n",
    "        print(\"\\nDane opisowe:\\n\")\n",
    "        value_counts_function(change)\n",
    "    elif choice_main.upper() == \"S\":\n",
    "        print(\"\\nDane dla statystyki:\\n\")\n",
    "        choice_stat_column = input()\n",
    "        choice_tree_stat(choice_stat_column)\n",
    "    elif choice_main.upper() == \"W\":\n",
    "        print(\"\\nDane dla wizualizacji:\\n\")\n",
    "        choice_vis_column_1 = input()\n",
    "        choice_vis_column_2 = input()\n",
    "        choice_tree_vis(choice_vis_column_1, choice_vis_column_2)\n",
    "\n",
    "# Value counts choice functions\n",
    "def value_counts_function(change):\n",
    "    value_counts_output.clear_output()\n",
    "    with value_counts_output:\n",
    "        if (change.new == '...'):\n",
    "            display(\"Wybierz kategorię\")\n",
    "        else:\n",
    "            display(torrents[torrents[change] == change.new])\n",
    "            # display(torrents[\"Total Snatched\"].value_counts().plot(kind = \"pie\", figsize =(6,6)))\n",
    "    value_counts_widget.observe(value_counts_function, names='value')\n",
    "    display(value_counts_widget)\n",
    " \n",
    "# Statistic choice tree function\n",
    "def choice_tree_stat(choice_stat_column):\n",
    "    if choice_stat_column in torrents.columns:\n",
    "        print(torrents[choice_stat_column].describe())\n",
    "        print(torrents[choice_stat_column].value_counts())\n",
    "        print(len(torrents[choice_stat_column].value_counts()))\n",
    "\n",
    "# Visual choice tree function\n",
    "def choice_tree_vis(choice_vis_column_1, choice_vis_column_2):\n",
    "    if choice_vis_column_1 in torrents.columns and choice_vis_column_2 in torrents.columns:\n",
    "        plt.hist(torrents[choice_vis_column_1],bins=len(torrents[choice_vis_column_1].value_counts()))\n",
    "        print(torrents.plot.scatter(x=choice_vis_column_1, y=choice_vis_column_2))\n",
    "\n",
    "# Choice widgets definitions\n",
    "value_counts_widget = widgets.Dropdown(options = [\"...\", \"Total Snatched\", \"Artist\", \"Group Year\", \"Release Type\"])\n",
    "value_counts_output = widgets.Output()"
   ]
  },
  {
   "cell_type": "code",
   "execution_count": 18,
   "metadata": {},
   "outputs": [
    {
     "name": "stdout",
     "output_type": "stream",
     "text": [
      "Co słychać w Zatoce Piratów?\n",
      "Aplikacja jest do Twojej dyspozycji!\n",
      "Wprowadź właściwe polecenie:\n",
      "\n",
      "O dla Opisu\n",
      "S dla Statystyk\n",
      "W dla Wizualizacji\n",
      "\n",
      "\n",
      "Dane opisowe:\n",
      "\n"
     ]
    },
    {
     "ename": "NameError",
     "evalue": "name 'change' is not defined",
     "output_type": "error",
     "traceback": [
      "\u001b[0;31m---------------------------------------------------------------------------\u001b[0m",
      "\u001b[0;31mNameError\u001b[0m                                 Traceback (most recent call last)",
      "\u001b[0;32m<ipython-input-18-263240bbee7e>\u001b[0m in \u001b[0;36m<module>\u001b[0;34m\u001b[0m\n\u001b[0;32m----> 1\u001b[0;31m \u001b[0mmain\u001b[0m\u001b[0;34m(\u001b[0m\u001b[0;34m)\u001b[0m\u001b[0;34m\u001b[0m\u001b[0;34m\u001b[0m\u001b[0m\n\u001b[0m",
      "\u001b[0;32m<ipython-input-17-475f4e5c7475>\u001b[0m in \u001b[0;36mmain\u001b[0;34m()\u001b[0m\n\u001b[1;32m      6\u001b[0m     \u001b[0mprint\u001b[0m\u001b[0;34m(\u001b[0m\u001b[0;34m\"O dla Opisu\\nS dla Statystyk\\nW dla Wizualizacji\\n\"\u001b[0m\u001b[0;34m)\u001b[0m\u001b[0;34m\u001b[0m\u001b[0;34m\u001b[0m\u001b[0m\n\u001b[1;32m      7\u001b[0m     \u001b[0mchoice_main\u001b[0m \u001b[0;34m=\u001b[0m \u001b[0minput\u001b[0m\u001b[0;34m(\u001b[0m\u001b[0;34m)\u001b[0m\u001b[0;34m\u001b[0m\u001b[0;34m\u001b[0m\u001b[0m\n\u001b[0;32m----> 8\u001b[0;31m     \u001b[0mchoice_tree_main\u001b[0m\u001b[0;34m(\u001b[0m\u001b[0mchoice_main\u001b[0m\u001b[0;34m)\u001b[0m\u001b[0;34m\u001b[0m\u001b[0;34m\u001b[0m\u001b[0m\n\u001b[0m\u001b[1;32m      9\u001b[0m \u001b[0;34m\u001b[0m\u001b[0m\n\u001b[1;32m     10\u001b[0m \u001b[0;31m# Main choice tree function\u001b[0m\u001b[0;34m\u001b[0m\u001b[0;34m\u001b[0m\u001b[0;34m\u001b[0m\u001b[0m\n",
      "\u001b[0;32m<ipython-input-17-475f4e5c7475>\u001b[0m in \u001b[0;36mchoice_tree_main\u001b[0;34m(choice_main)\u001b[0m\n\u001b[1;32m     14\u001b[0m     \u001b[0;32melif\u001b[0m \u001b[0mchoice_main\u001b[0m\u001b[0;34m.\u001b[0m\u001b[0mupper\u001b[0m\u001b[0;34m(\u001b[0m\u001b[0;34m)\u001b[0m \u001b[0;34m==\u001b[0m \u001b[0;34m\"O\"\u001b[0m\u001b[0;34m:\u001b[0m\u001b[0;34m\u001b[0m\u001b[0;34m\u001b[0m\u001b[0m\n\u001b[1;32m     15\u001b[0m         \u001b[0mprint\u001b[0m\u001b[0;34m(\u001b[0m\u001b[0;34m\"\\nDane opisowe:\\n\"\u001b[0m\u001b[0;34m)\u001b[0m\u001b[0;34m\u001b[0m\u001b[0;34m\u001b[0m\u001b[0m\n\u001b[0;32m---> 16\u001b[0;31m         \u001b[0mvalue_counts_function\u001b[0m\u001b[0;34m(\u001b[0m\u001b[0mchange\u001b[0m\u001b[0;34m)\u001b[0m\u001b[0;34m\u001b[0m\u001b[0;34m\u001b[0m\u001b[0m\n\u001b[0m\u001b[1;32m     17\u001b[0m         \u001b[0mvalue_counts_widget\u001b[0m\u001b[0;34m.\u001b[0m\u001b[0mobserve\u001b[0m\u001b[0;34m(\u001b[0m\u001b[0mvalue_counts_function\u001b[0m\u001b[0;34m,\u001b[0m \u001b[0mnames\u001b[0m\u001b[0;34m=\u001b[0m\u001b[0;34m'value'\u001b[0m\u001b[0;34m)\u001b[0m\u001b[0;34m\u001b[0m\u001b[0;34m\u001b[0m\u001b[0m\n\u001b[1;32m     18\u001b[0m         \u001b[0mdisplay\u001b[0m\u001b[0;34m(\u001b[0m\u001b[0mvalue_counts_widget\u001b[0m\u001b[0;34m)\u001b[0m\u001b[0;34m\u001b[0m\u001b[0;34m\u001b[0m\u001b[0m\n",
      "\u001b[0;31mNameError\u001b[0m: name 'change' is not defined"
     ]
    }
   ],
   "source": [
    "main()"
   ]
  }
 ],
 "metadata": {
  "interpreter": {
   "hash": "40d3a090f54c6569ab1632332b64b2c03c39dcf918b08424e98f38b5ae0af88f"
  },
  "kernelspec": {
   "display_name": "Python 3",
   "language": "python",
   "name": "python3"
  },
  "language_info": {
   "codemirror_mode": {
    "name": "ipython",
    "version": 3
   },
   "file_extension": ".py",
   "mimetype": "text/x-python",
   "name": "python",
   "nbconvert_exporter": "python",
   "pygments_lexer": "ipython3",
   "version": "3.8.5"
  }
 },
 "nbformat": 4,
 "nbformat_minor": 2
}
